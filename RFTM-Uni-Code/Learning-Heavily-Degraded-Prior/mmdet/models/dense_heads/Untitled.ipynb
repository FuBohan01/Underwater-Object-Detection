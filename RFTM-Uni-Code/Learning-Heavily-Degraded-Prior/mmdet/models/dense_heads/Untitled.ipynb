{
 "cells": [
  {
   "cell_type": "code",
   "execution_count": 3,
   "id": "ba8d0223-322f-4485-b49d-aa61487ad5d1",
   "metadata": {
    "tags": []
   },
   "outputs": [],
   "source": [
    "from mmdet.models.dense_heads.rpn_head import RPNHead\n",
    "import torch\n",
    "self = RPNHead(256)\n",
    "x = torch.rand(2, 256, 24,24)\n",
    "cls_score, bbox_pred = self.forward_single(x)\n",
    "\n",
    "\n",
    "\n",
    "\n",
    "\n",
    "# # self = retina_Uni(11, 7)\n",
    "# # x = torch.rand(1, 7, 32, 32)\n",
    "# # cls_score, bbox_pred = self.forward_single(x)"
   ]
  },
  {
   "cell_type": "code",
   "execution_count": 4,
   "id": "70a17623-d931-4339-9d68-092818071c22",
   "metadata": {
    "tags": []
   },
   "outputs": [
    {
     "data": {
      "text/plain": [
       "torch.Size([2, 9, 24, 24])"
      ]
     },
     "execution_count": 4,
     "metadata": {},
     "output_type": "execute_result"
    }
   ],
   "source": [
    "cls_score.size()"
   ]
  },
  {
   "cell_type": "code",
   "execution_count": 5,
   "id": "95a91138-77ae-42ea-b8d7-548560f92351",
   "metadata": {
    "tags": []
   },
   "outputs": [
    {
     "data": {
      "text/plain": [
       "torch.Size([2, 36, 24, 24])"
      ]
     },
     "execution_count": 5,
     "metadata": {},
     "output_type": "execute_result"
    }
   ],
   "source": [
    "bbox_pred.size()"
   ]
  },
  {
   "cell_type": "code",
   "execution_count": 6,
   "id": "0b9587a7-e6bb-48ae-924e-74dff07f5a22",
   "metadata": {
    "tags": []
   },
   "outputs": [],
   "source": [
    "from mmdet.models.dense_heads.retina_Uni import retina_Uni\n",
    "import torch\n",
    "self = retina_Uni(256)\n",
    "x = torch.rand(1, 256, 32, 32)\n",
    "cls_score, bbox_pred = self.forward_single(x)"
   ]
  },
  {
   "cell_type": "code",
   "execution_count": 7,
   "id": "97d5648f-4e29-48a2-a4d9-dfff602df117",
   "metadata": {
    "tags": []
   },
   "outputs": [
    {
     "data": {
      "text/plain": [
       "torch.Size([1, 36, 32, 32])"
      ]
     },
     "execution_count": 7,
     "metadata": {},
     "output_type": "execute_result"
    }
   ],
   "source": [
    "cls_score.size()"
   ]
  },
  {
   "cell_type": "code",
   "execution_count": 8,
   "id": "2c00db22-fbce-4f49-8279-3681adb3fa53",
   "metadata": {
    "tags": []
   },
   "outputs": [
    {
     "data": {
      "text/plain": [
       "torch.Size([1, 36, 32, 32])"
      ]
     },
     "execution_count": 8,
     "metadata": {},
     "output_type": "execute_result"
    }
   ],
   "source": [
    "bbox_pred.size()"
   ]
  },
  {
   "cell_type": "code",
   "execution_count": 1,
   "id": "3c49c9a9-f1ab-4de3-afed-9da6c52c1d1a",
   "metadata": {
    "tags": []
   },
   "outputs": [
    {
     "data": {
      "text/plain": [
       "torch.Size([2, 36, 32, 32])"
      ]
     },
     "execution_count": 1,
     "metadata": {},
     "output_type": "execute_result"
    }
   ],
   "source": [
    "from mmdet.models.dense_heads.rpn_uni_head import RPN_unihead\n",
    "import torch\n",
    "self0 = RPN_unihead(256)\n",
    "x = torch.rand(2, 256, 32, 32)\n",
    "# print(x)\n",
    "cls_score, bbox_pred = self0.forward_single(x)\n",
    "cls_score.size()"
   ]
  },
  {
   "cell_type": "code",
   "execution_count": 2,
   "id": "be34852c-c0ed-42fe-ad9d-0555e89340de",
   "metadata": {
    "tags": []
   },
   "outputs": [
    {
     "data": {
      "text/plain": [
       "torch.Size([2, 36, 32, 32])"
      ]
     },
     "execution_count": 2,
     "metadata": {},
     "output_type": "execute_result"
    }
   ],
   "source": [
    "bbox_pred.size()"
   ]
  },
  {
   "cell_type": "code",
   "execution_count": null,
   "id": "fadca902-1f47-4fbd-b188-e7c836f6f091",
   "metadata": {},
   "outputs": [],
   "source": []
  }
 ],
 "metadata": {
  "kernelspec": {
   "display_name": "Python 3 (ipykernel)",
   "language": "python",
   "name": "python3"
  },
  "language_info": {
   "codemirror_mode": {
    "name": "ipython",
    "version": 3
   },
   "file_extension": ".py",
   "mimetype": "text/x-python",
   "name": "python",
   "nbconvert_exporter": "python",
   "pygments_lexer": "ipython3",
   "version": "3.8.10"
  }
 },
 "nbformat": 4,
 "nbformat_minor": 5
}
